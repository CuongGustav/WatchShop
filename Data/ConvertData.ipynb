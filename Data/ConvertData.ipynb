{
 "cells": [
  {
   "cell_type": "code",
   "execution_count": 3,
   "metadata": {},
   "outputs": [
    {
     "name": "stdout",
     "output_type": "stream",
     "text": [
      "File saved as 'dataClean.json'\n"
     ]
    }
   ],
   "source": [
    "import pandas as pd\n",
    "\n",
    "# Đọc dữ liệu từ file CSV\n",
    "df = pd.read_csv('.//dataClean.csv')\n",
    "\n",
    "# Chuyển đổi cột OtherImage thành danh sách (mảng)\n",
    "df['OtherImage'] = df['OtherImage'].apply(lambda x: x.split(',') if pd.notnull(x) else [])\n",
    "\n",
    "# Chuyển đổi DataFrame thành định dạng JSON\n",
    "json_data = df.to_json(orient='records', force_ascii=False, indent=4)\n",
    "\n",
    "# Lưu dữ liệu JSON vào file\n",
    "with open('.//dataClean.json', 'w', encoding='utf-8') as file:\n",
    "    file.write(json_data)\n",
    "\n",
    "print(\"File saved as 'dataClean.json'\")\n"
   ]
  },
  {
   "cell_type": "code",
   "execution_count": 7,
   "metadata": {},
   "outputs": [
    {
     "name": "stdout",
     "output_type": "stream",
     "text": [
      "File saved as 'dataClean_updated.json'\n"
     ]
    },
    {
     "name": "stderr",
     "output_type": "stream",
     "text": [
      "<>:4: SyntaxWarning: invalid escape sequence '\\w'\n",
      "<>:29: SyntaxWarning: invalid escape sequence '\\w'\n",
      "<>:4: SyntaxWarning: invalid escape sequence '\\w'\n",
      "<>:29: SyntaxWarning: invalid escape sequence '\\w'\n",
      "C:\\Users\\QUOCCUONG\\AppData\\Local\\Temp\\ipykernel_42632\\4044510539.py:4: SyntaxWarning: invalid escape sequence '\\w'\n",
      "  with open('D:\\workspace\\WatchShop\\dataClean.json', 'r', encoding='utf-8') as file:\n",
      "C:\\Users\\QUOCCUONG\\AppData\\Local\\Temp\\ipykernel_42632\\4044510539.py:29: SyntaxWarning: invalid escape sequence '\\w'\n",
      "  with open('D:\\workspace\\WatchShop\\dataClean_updated.json', 'w', encoding='utf-8') as file:\n"
     ]
    }
   ],
   "source": [
    "import json\n",
    "\n",
    "# Đọc dữ liệu từ file JSON\n",
    "with open('D:\\workspace\\WatchShop\\dataClean.json', 'r', encoding='utf-8') as file:\n",
    "    data = json.load(file)\n",
    "\n",
    "# Xử lý dữ liệu để xóa các đường link trùng lặp trong cột OtherImage\n",
    "for item in data:\n",
    "    if 'OtherImage' in item:\n",
    "        # Chuyển đổi danh sách thành tập hợp để loại bỏ trùng lặp\n",
    "        unique_images = list(set(item['OtherImage']))\n",
    "        item['OtherImage'] = unique_images\n",
    "links_to_remove = [\n",
    "    \"https://image.donghohaitrieu.com/wp-content/uploads/2023/06/p12.png\",\n",
    "    \"https://image.donghohaitrieu.com/wp-content/uploads/2023/06/p10.png\",\n",
    "    \"https://image.donghohaitrieu.com/wp-content/uploads/2023/06/p11.png\",\n",
    "]\n",
    "for item in data:\n",
    "    if 'OtherImage' in item:\n",
    "        item['OtherImage'] = [img for img in item['OtherImage'] if img.strip() not in links_to_remove]\n",
    "\n",
    "# Xử lý dữ liệu để xóa các đường link có chứa chữ \"logo\" trong cột OtherImage\n",
    "for item in data:\n",
    "    if 'OtherImage' in item:\n",
    "        item['OtherImage'] = [img for img in item['OtherImage'] if 'logo' not in img]\n",
    "\n",
    "    \n",
    "# Lưu lại dữ liệu đã chỉnh sửa vào file JSON\n",
    "with open('D:\\workspace\\WatchShop\\dataClean_updated.json', 'w', encoding='utf-8') as file:\n",
    "    json.dump(data, file, ensure_ascii=False, indent=4)\n",
    "\n",
    "print(\"File saved as 'dataClean_updated.json'\")\n"
   ]
  }
 ],
 "metadata": {
  "kernelspec": {
   "display_name": "Python 3",
   "language": "python",
   "name": "python3"
  },
  "language_info": {
   "codemirror_mode": {
    "name": "ipython",
    "version": 3
   },
   "file_extension": ".py",
   "mimetype": "text/x-python",
   "name": "python",
   "nbconvert_exporter": "python",
   "pygments_lexer": "ipython3",
   "version": "3.12.7"
  }
 },
 "nbformat": 4,
 "nbformat_minor": 2
}
