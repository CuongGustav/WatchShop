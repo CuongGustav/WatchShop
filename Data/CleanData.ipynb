{
 "cells": [
  {
   "cell_type": "code",
   "execution_count": 10,
   "metadata": {},
   "outputs": [
    {
     "name": "stdout",
     "output_type": "stream",
     "text": [
      "   ID                                              Image                                         OtherImage Thương hiệu Số hiệu sản phẩm       Bộ sưu tập   Xuất xứ Giới tính             Kính        Máy Bảo hành quốc tế Bảo hành tại Hải Triều Đường kính mặt số Bề dày mặt số          Niềng Dây đeo Màu mặt số Chống nước                                          Chức năng Nơi sản xuất           Giá\n",
      "0   1  https://image.donghohaitrieu.com/wp-content/up...  https://image.donghohaitrieu.com/wp-content/up...      Orient    RA-AK0801S30B  Orient Sun&Moon  Nhật Bản       Nam  Mineral Crystal  Automatic            1 năm                  5 năm           41.5 mm       14.2 mm  Thép Không Gỉ  Dây Da      Trắng      5 ATM  Caliber F6B24, 22 Chân Kính, Tần Số Dao Động 2...   Trung Quốc  11.360.000 ₫\n"
     ]
    }
   ],
   "source": [
    "import pandas as pd\n",
    "\n",
    "df = pd.read_csv('.//dataCrawl.csv')\n",
    "pd.set_option('display.max_columns', None)\n",
    "pd.set_option('display.max_columns', None)\n",
    "pd.set_option('display.expand_frame_repr', False)\n",
    "print(df.head(1))\n",
    "\n",
    "\n"
   ]
  },
  {
   "cell_type": "code",
   "execution_count": null,
   "metadata": {},
   "outputs": [
    {
     "name": "stdout",
     "output_type": "stream",
     "text": [
      "   ID                                              Image                                         OtherImage   Brand      ProductID       Collection    Origin Gender            Glass   Movement InternationalWarranty WarrantyAtHaiTrieu CaseDiameter CaseThickness          Bezel   Strap DialColor WaterResistance                                          Functions PlaceOfManufacture         Price\n",
      "0   1  https://image.donghohaitrieu.com/wp-content/up...  https://image.donghohaitrieu.com/wp-content/up...  Orient  RA-AK0801S30B  Orient Sun&Moon  Nhật Bản    Nam  Mineral Crystal  Automatic                 1 năm              5 năm      41.5 mm       14.2 mm  Thép Không Gỉ  Dây Da     Trắng           5 ATM  Caliber F6B24, 22 Chân Kính, Tần Số Dao Động 2...         Trung Quốc  11.360.000 ₫\n",
      "File saved as 'dataCrawl.csv' with English column names.\n"
     ]
    }
   ],
   "source": [
    "# Rename columns from Vietnamese to English\n",
    "df = df.rename(columns={\n",
    "    \"Thương hiệu\": \"Brand\",\n",
    "    \"Số hiệu sản phẩm\": \"ProductID\",\n",
    "    \"Bộ sưu tập\": \"Collection\",\n",
    "    \"Xuất xứ\": \"Origin\",\n",
    "    \"Giới tính\": \"Gender\",\n",
    "    \"Kính\": \"Glass\",\n",
    "    \"Máy\": \"Movement\",\n",
    "    \"Bảo hành quốc tế\": \"InternationalWarranty\",\n",
    "    \"Bảo hành tại Hải Triều\": \"WarrantyAtHaiTrieu\",\n",
    "    \"Đường kính mặt số\": \"CaseDiameter\",\n",
    "    \"Bề dày mặt số\": \"CaseThickness\",\n",
    "    \"Niềng\": \"Bezel\",\n",
    "    \"Dây đeo\": \"Strap\",\n",
    "    \"Màu mặt số\": \"DialColor\",\n",
    "    \"Chống nước\": \"WaterResistance\",\n",
    "    \"Chức năng\": \"Functions\",\n",
    "    \"Nơi sản xuất\": \"PlaceOfManufacture\",\n",
    "    \"Giá\": \"Price\"\n",
    "})\n",
    "\n",
    "# Display the first row with new column names\n",
    "print(df.head(1))\n",
    "df.to_csv('.//dataCrawl.csv', index=False, encoding='utf-8-sig')\n",
    "print(\"File saved as 'dataCrawl.csv' with English column names.\")\n"
   ]
  },
  {
   "cell_type": "code",
   "execution_count": 20,
   "metadata": {},
   "outputs": [
    {
     "name": "stdout",
     "output_type": "stream",
     "text": [
      "        Price\n",
      "0  11360000.0\n",
      "1   9230000.0\n",
      "2   8050000.0\n",
      "3  26840000.0\n",
      "4  27560000.0\n",
      "File saved as 'dataClean.csv' with converted Price values.\n"
     ]
    }
   ],
   "source": [
    "df['Price'] = df['Price'].replace('[₫,.\\xa0]', '', regex=True).astype(float)\n",
    "\n",
    "print(df[['Price']].head())\n",
    "df.to_csv('.//dataClean.csv', index=False, encoding='utf-8-sig')\n",
    "print(\"File saved as 'dataClean.csv' with converted Price values.\")"
   ]
  },
  {
   "cell_type": "code",
   "execution_count": 21,
   "metadata": {},
   "outputs": [
    {
     "name": "stdout",
     "output_type": "stream",
     "text": [
      "   ID                                              Image                                         OtherImage   Brand      ProductID       Collection    Origin Gender            Glass   Movement InternationalWarranty WarrantyAtHaiTrieu CaseDiameter CaseThickness          Bezel   Strap DialColor WaterResistance                                          Functions PlaceOfManufacture     Price\n",
      "0   1  https://image.donghohaitrieu.com/wp-content/up...  https://image.donghohaitrieu.com/wp-content/up...  Orient  RA-AK0801S30B  Orient Sun&Moon  Nhật Bản    Nam  Mineral Crystal  Automatic                 1 năm              5 năm      41.5 mm       14.2 mm  Thép không gỉ  Dây Da     Trắng           5 ATM  Caliber F6B24, 22 Chân Kính, Tần Số Dao Động 2...         Trung Quốc  11360000\n"
     ]
    }
   ],
   "source": [
    "df = pd.read_csv('.//dataClean.csv')\n",
    "pd.set_option('display.max_columns', None)\n",
    "pd.set_option('display.max_columns', None)\n",
    "pd.set_option('display.expand_frame_repr', False)\n",
    "print(df.head(1))"
   ]
  }
 ],
 "metadata": {
  "kernelspec": {
   "display_name": "Python 3",
   "language": "python",
   "name": "python3"
  },
  "language_info": {
   "codemirror_mode": {
    "name": "ipython",
    "version": 3
   },
   "file_extension": ".py",
   "mimetype": "text/x-python",
   "name": "python",
   "nbconvert_exporter": "python",
   "pygments_lexer": "ipython3",
   "version": "3.12.7"
  }
 },
 "nbformat": 4,
 "nbformat_minor": 2
}
